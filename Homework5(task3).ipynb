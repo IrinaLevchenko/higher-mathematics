{
 "cells": [
  {
   "cell_type": "code",
   "execution_count": 14,
   "id": "d31666cd",
   "metadata": {},
   "outputs": [],
   "source": [
    "import numpy as np\n",
    "from math import factorial"
   ]
  },
  {
   "cell_type": "code",
   "execution_count": 18,
   "id": "9488e78b",
   "metadata": {},
   "outputs": [
    {
     "name": "stdout",
     "output_type": "stream",
     "text": [
      "Вероятность методом Монте-Карло: 0.3764\n",
      "Вероятность по формуле Бернулли: 0.375\n",
      "Отклонение: 0.0037333333333333663\n"
     ]
    }
   ],
   "source": [
    "k, n = 0, 10000\n",
    "a = np.random.randint(0, 2, n)\n",
    "b = np.random.randint(0, 2, n)\n",
    "c = np.random.randint(0, 2, n)\n",
    "d = np.random.randint(0, 2, n)\n",
    "x = a + b + c + d\n",
    "for i in range(0, n):\n",
    "    if x[i] == 2:\n",
    "        k += 1\n",
    "p_monte_carlo = k / n\n",
    "print(f'Вероятность методом Монте-Карло: {p_monte_carlo}')\n",
    "\n",
    "k, n = 2, 4\n",
    "p_bernulli = (factorial(n) / ( factorial(k) * factorial(n - k) )) * 1 / 2 ** n\n",
    "print(f'Вероятность по формуле Бернулли: {p_bernulli}')\n",
    "\n",
    "print(f'Отклонение: {((p_monte_carlo - p_bernulli) / p_bernulli)}')"
   ]
  },
  {
   "cell_type": "code",
   "execution_count": 16,
   "id": "966034c0",
   "metadata": {},
   "outputs": [
    {
     "name": "stdout",
     "output_type": "stream",
     "text": [
      "Вероятность по формуле Бернулли: 0.22984524294117162\n"
     ]
    }
   ],
   "source": [
    "k, n = 3, 60\n",
    "p = k / n\n",
    "p_bernulli = (factorial(n) / ( factorial(k) * factorial(n - k) )) * (p ** k) * ((1 - p) ** (n - k))\n",
    "print(f'Вероятность по формуле Бернулли: {p_bernulli}')"
   ]
  }
 ],
 "metadata": {
  "kernelspec": {
   "display_name": "Python 3 (ipykernel)",
   "language": "python",
   "name": "python3"
  },
  "language_info": {
   "codemirror_mode": {
    "name": "ipython",
    "version": 3
   },
   "file_extension": ".py",
   "mimetype": "text/x-python",
   "name": "python",
   "nbconvert_exporter": "python",
   "pygments_lexer": "ipython3",
   "version": "3.9.7"
  }
 },
 "nbformat": 4,
 "nbformat_minor": 5
}
