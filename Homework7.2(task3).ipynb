{
 "cells": [
  {
   "cell_type": "code",
   "execution_count": 25,
   "id": "7f0cb6cf",
   "metadata": {},
   "outputs": [],
   "source": [
    "import numpy as np"
   ]
  },
  {
   "cell_type": "code",
   "execution_count": 60,
   "id": "38a3eb13",
   "metadata": {},
   "outputs": [
    {
     "name": "stdout",
     "output_type": "stream",
     "text": [
      "[[ 1  2  3 12]\n",
      " [ 4  5  6  2]\n",
      " [ 7  8  9  1]]\n",
      "2 < 3, следовательно СЛАУ решений не имеет\n"
     ]
    }
   ],
   "source": [
    "A = np.array([[1, 2, 3], [4, 5, 6], [7, 8, 9]])\n",
    "B = np.array([12, 2, 1])\n",
    "C = np.column_stack((A, B.T))\n",
    "\n",
    "rankA = np.linalg.matrix_rank(A, 0.0001)\n",
    "rankC = np.linalg.matrix_rank(C, 0.0001)\n",
    "\n",
    "print(C)\n",
    "print(f'{rankA} < {rankC}, следовательно СЛАУ решений не имеет') if rankA < rankC else print('')"
   ]
  },
  {
   "cell_type": "code",
   "execution_count": 61,
   "id": "5b997ed3",
   "metadata": {},
   "outputs": [
    {
     "name": "stdout",
     "output_type": "stream",
     "text": [
      "[[1 2 3 0]\n",
      " [4 5 6 0]\n",
      " [7 8 9 0]]\n",
      "2 = 2, следовательно СЛАУ имеет бесконечное множество решений\n"
     ]
    }
   ],
   "source": [
    "A = np.array([[1, 2, 3], [4, 5, 6], [7, 8, 9]])\n",
    "B = np.array([0, 0, 0])\n",
    "C = np.column_stack((A, B.T))\n",
    "\n",
    "rankA = np.linalg.matrix_rank(A, 0.0001)\n",
    "rankC = np.linalg.matrix_rank(C, 0.0001)\n",
    "\n",
    "print(C)\n",
    "print(f'{rankA} = {rankC}, следовательно СЛАУ имеет бесконечное множество решений') if rankA == rankC else print('')"
   ]
  }
 ],
 "metadata": {
  "kernelspec": {
   "display_name": "Python 3 (ipykernel)",
   "language": "python",
   "name": "python3"
  },
  "language_info": {
   "codemirror_mode": {
    "name": "ipython",
    "version": 3
   },
   "file_extension": ".py",
   "mimetype": "text/x-python",
   "name": "python",
   "nbconvert_exporter": "python",
   "pygments_lexer": "ipython3",
   "version": "3.9.7"
  }
 },
 "nbformat": 4,
 "nbformat_minor": 5
}
