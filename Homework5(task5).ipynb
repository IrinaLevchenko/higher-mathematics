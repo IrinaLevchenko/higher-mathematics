{
 "cells": [
  {
   "cell_type": "code",
   "execution_count": 23,
   "id": "5ed21de4",
   "metadata": {},
   "outputs": [],
   "source": [
    "%matplotlib inline\n",
    "import numpy as np\n",
    "import matplotlib.pyplot as plt"
   ]
  },
  {
   "cell_type": "code",
   "execution_count": 22,
   "id": "9eb699f6",
   "metadata": {},
   "outputs": [
    {
     "name": "stdout",
     "output_type": "stream",
     "text": [
      "Коэффициенты регрессии:  0.7837952044231596 0.11160721040604309\n",
      "Коэффициенты регрессии:  0.7837952044231601 0.11160721040604303\n",
      "Коэффициент корреляции:  [ 1.83999272e-19 -4.94560358e-19  1.75769414e-19  2.12595272e-19\n",
      "  1.93220364e-19 -1.22371195e-19 -4.73937366e-19 -6.73036288e-20\n",
      "  1.67823211e-19  2.85142039e-19  4.00016972e-19  1.83722668e-19\n",
      " -3.66564485e-19 -3.16493926e-19  4.14098702e-19 -2.49701221e-19\n",
      "  3.96250032e-19 -1.35149247e-20 -2.36733369e-19 -8.95932479e-20\n",
      "  2.59941595e-19 -2.25912440e-19 -1.07035805e-19 -3.21425851e-19\n",
      " -1.40923744e-21 -3.27661586e-19 -2.49285079e-19 -2.74759792e-19\n",
      " -2.00289441e-20  4.81393851e-19 -1.83075313e-19  3.66731446e-19\n",
      "  4.87870740e-19  2.48451629e-19 -3.96182432e-19 -2.13915758e-19\n",
      "  5.13903844e-19 -2.18209073e-19  3.51115533e-19 -2.59396379e-19\n",
      "  5.58656546e-19 -1.96611200e-19 -1.93368490e-19 -5.34882685e-19\n",
      " -2.39405139e-19  5.75810487e-19  5.59684062e-20  5.34770536e-19\n",
      " -2.84838487e-19 -3.25617572e-19 -2.03405598e-22 -1.89232330e-19\n",
      "  3.78184515e-19  5.56642256e-19  1.41933844e-19  1.41096213e-19\n",
      "  2.47529453e-19 -1.00518277e-19 -5.58408597e-20 -1.74589349e-19\n",
      "  1.65104575e-20  1.88026019e-20  4.07610788e-20 -1.56918530e-19\n",
      " -4.28790516e-19 -2.95125004e-19 -5.10275053e-19  3.54535733e-19\n",
      "  2.92574842e-19 -1.00254190e-19 -6.49422263e-20 -2.66053873e-19\n",
      "  4.80672829e-19 -1.50496366e-19 -2.32165415e-19  2.86546867e-19\n",
      "  7.72343475e-20 -2.07223257e-20  1.89256231e-19 -8.22635144e-21\n",
      "  5.90427267e-20 -3.43495175e-19 -3.66057117e-19 -1.06711500e-19\n",
      "  4.32878495e-20  2.86110219e-19  3.61335523e-19 -1.77572426e-19\n",
      "  1.68227660e-19 -3.96743147e-19  7.12876453e-20 -3.73414439e-19\n",
      " -1.66467384e-19 -2.96829664e-19 -3.35070257e-19  2.04728538e-19\n",
      " -1.14549588e-19  4.06177097e-19  3.80619971e-19  1.84708695e-19]\n",
      "Коэффициент корреляции:  [[1.         0.94030257]\n",
      " [0.94030257 1.        ]]\n"
     ]
    },
    {
     "name": "stderr",
     "output_type": "stream",
     "text": [
      "C:\\Users\\lisat\\AppData\\Local\\Temp/ipykernel_10272/437747604.py:17: FutureWarning: `rcond` parameter will change to the default of machine precision times ``max(M, N)`` where M and N are the input matrix dimensions.\n",
      "To use the future default and silence this warning we advise to pass `rcond=None`, to keep using the old, explicitly pass `rcond=-1`.\n",
      "  a1, b1 = np.linalg.lstsq(A, y)[0]\n"
     ]
    },
    {
     "data": {
      "image/png": "[encoded data removed]",
      "text/plain": [
       "<Figure size 432x288 with 1 Axes>"
      ]
     },
     "metadata": {
      "needs_background": "light"
     },
     "output_type": "display_data"
    }
   ],
   "source": [
    "n = 100\n",
    "r = 0.7\n",
    "x = np.random.rand(n)\n",
    "y = r * x + (1 - r) * np.random.rand(n)\n",
    "\n",
    "plt.plot(x, y, 'o')\n",
    "plt.xlabel('x')\n",
    "plt.ylabel('y')\n",
    "plt.grid(True)\n",
    "\n",
    "# Ручной расчет коэффициентов регрессии\n",
    "a = (np.sum(x) * np.sum(y) - n * np.sum(x * y)) / ((np.sum(x)) ** 2 - n * np.sum(x ** 2))\n",
    "b = (np.sum(y) - a * np.sum(x)) / n\n",
    "\n",
    "# Расчет коэффициентов регрессии при помощи библиотеки Numpy\n",
    "A = np.vstack([x, np.ones(len(x))]).T\n",
    "a1, b1 = np.linalg.lstsq(A, y)[0]\n",
    "\n",
    "print('Коэффициенты регрессии: ', a, b)\n",
    "print('Коэффициенты регрессии: ', a1, b1)\n",
    "\n",
    "# Ручной расчет коэффициентов корреляции\n",
    "R = (np.sum(x - np.mean(x)) * (y - np.mean(y))) / ((np.sum((x - np.mean(x)) ** 2) * np.sum((y - np.mean(y)) ** 2)) ** 2)\n",
    "print('Коэффициент корреляции: ', R)\n",
    "\n",
    "# Расчет коэффициентов корреляции при помощи библиотеки Numpy\n",
    "c = np.corrcoef(x, y) \n",
    "print('Коэффициент корреляции: ', c)\n",
    "\n",
    "plt.plot([0, 1], [b, a + b])\n",
    "plt.show()\n"
   ]
  },
  {
   "cell_type": "code",
   "execution_count": null,
   "id": "33025b21",
   "metadata": {},
   "outputs": [],
   "source": []
  }
 ],
 "metadata": {
  "kernelspec": {
   "display_name": "Python 3 (ipykernel)",
   "language": "python",
   "name": "python3"
  },
  "language_info": {
   "codemirror_mode": {
    "name": "ipython",
    "version": 3
   },
   "file_extension": ".py",
   "mimetype": "text/x-python",
   "name": "python",
   "nbconvert_exporter": "python",
   "pygments_lexer": "ipython3",
   "version": "3.9.7"
  }
 },
 "nbformat": 4,
 "nbformat_minor": 5
}
