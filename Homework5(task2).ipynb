{
 "cells": [
  {
   "cell_type": "code",
   "execution_count": 92,
   "id": "2353ae38",
   "metadata": {},
   "outputs": [],
   "source": [
    "%matplotlib inline\n",
    "import numpy as np\n",
    "import matplotlib.pyplot as plt"
   ]
  },
  {
   "cell_type": "code",
   "execution_count": 93,
   "id": "c8f76438",
   "metadata": {},
   "outputs": [
    {
     "name": "stdout",
     "output_type": "stream",
     "text": [
      "True : P(A) + P(B) = 1\n"
     ]
    }
   ],
   "source": [
    "k, m = 0, 0\n",
    "n = 125436\n",
    "for _ in range(0, n):\n",
    "    x = np.random.uniform(0, n)\n",
    "    if x <= n / 2:\n",
    "        k += 1 / n\n",
    "    else:\n",
    "        m += 1 / n\n",
    "        \n",
    "print(True,': P(A) + P(B) = 1') if round(k + m) == 1 else print(False, k , m)\n"
   ]
  },
  {
   "cell_type": "code",
   "execution_count": 91,
   "id": "9d5b76c5",
   "metadata": {},
   "outputs": [
    {
     "name": "stdout",
     "output_type": "stream",
     "text": [
      "[5.306102706711256, 6.912063515688351, 5.338445919884813, 5.708543730268865, 7.091416791162667, 4.537125574536277, 5.9290637533696025, 4.643153596755037, 6.231052308408372, 5.940586123181037]\n"
     ]
    },
    {
     "data": {
      "image/png": "[encoded data removed]",
      "text/plain": [
       "<Figure size 432x288 with 1 Axes>"
      ]
     },
     "metadata": {
      "needs_background": "light"
     },
     "output_type": "display_data"
    }
   ],
   "source": [
    "x = [sum(np.random.rand(10)) for _ in range(10)]\n",
    "print(x)\n",
    "num_bins = 5\n",
    "n, bins, patches = plt.hist(x, num_bins)\n",
    "plt.xlabel('x')\n",
    "plt.ylabel('Probability')\n",
    "plt.title('Histogram')\n",
    "plt.show()"
   ]
  }
 ],
 "metadata": {
  "kernelspec": {
   "display_name": "Python 3 (ipykernel)",
   "language": "python",
   "name": "python3"
  },
  "language_info": {
   "codemirror_mode": {
    "name": "ipython",
    "version": 3
   },
   "file_extension": ".py",
   "mimetype": "text/x-python",
   "name": "python",
   "nbconvert_exporter": "python",
   "pygments_lexer": "ipython3",
   "version": "3.9.7"
  }
 },
 "nbformat": 4,
 "nbformat_minor": 5
}
