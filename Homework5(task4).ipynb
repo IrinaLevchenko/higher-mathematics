{
 "cells": [
  {
   "cell_type": "code",
   "execution_count": 28,
   "id": "78de00ee",
   "metadata": {},
   "outputs": [],
   "source": [
    "import itertools"
   ]
  },
  {
   "cell_type": "code",
   "execution_count": 40,
   "id": "544a9955",
   "metadata": {},
   "outputs": [
    {
     "name": "stdout",
     "output_type": "stream",
     "text": [
      "012\n",
      "013\n",
      "014\n",
      "015\n",
      "023\n",
      "024\n",
      "025\n",
      "034\n",
      "035\n",
      "045\n",
      "123\n",
      "124\n",
      "125\n",
      "134\n",
      "135\n",
      "145\n",
      "234\n",
      "235\n",
      "245\n",
      "345\n"
     ]
    }
   ],
   "source": [
    "# сочетания\n",
    "for p in itertools.combinations('012345', 3):\n",
    "    print(''.join(p))"
   ]
  },
  {
   "cell_type": "code",
   "execution_count": 41,
   "id": "a2c387b6",
   "metadata": {},
   "outputs": [
    {
     "name": "stdout",
     "output_type": "stream",
     "text": [
      "00\n",
      "01\n",
      "02\n",
      "03\n",
      "10\n",
      "11\n",
      "12\n",
      "13\n",
      "20\n",
      "21\n",
      "22\n",
      "23\n",
      "30\n",
      "31\n",
      "32\n",
      "33\n"
     ]
    }
   ],
   "source": [
    "# размещения \n",
    "for p in itertools.product('0123', repeat=2):\n",
    "    print(''.join(p))"
   ]
  },
  {
   "cell_type": "code",
   "execution_count": 36,
   "id": "f26abbd9",
   "metadata": {},
   "outputs": [
    {
     "name": "stdout",
     "output_type": "stream",
     "text": [
      "0123\n",
      "0132\n",
      "0213\n",
      "0231\n",
      "0312\n",
      "0321\n",
      "1023\n",
      "1032\n",
      "1203\n",
      "1230\n",
      "1302\n",
      "1320\n",
      "2013\n",
      "2031\n",
      "2103\n",
      "2130\n",
      "2301\n",
      "2310\n",
      "3012\n",
      "3021\n",
      "3102\n",
      "3120\n",
      "3201\n",
      "3210\n"
     ]
    }
   ],
   "source": [
    "# перестановки (вариант размещения, когда n = k)\n",
    "for p in itertools.permutations('0123', 4):\n",
    "    print(''.join(p))"
   ]
  }
 ],
 "metadata": {
  "kernelspec": {
   "display_name": "Python 3 (ipykernel)",
   "language": "python",
   "name": "python3"
  },
  "language_info": {
   "codemirror_mode": {
    "name": "ipython",
    "version": 3
   },
   "file_extension": ".py",
   "mimetype": "text/x-python",
   "name": "python",
   "nbconvert_exporter": "python",
   "pygments_lexer": "ipython3",
   "version": "3.9.7"
  }
 },
 "nbformat": 4,
 "nbformat_minor": 5
}
