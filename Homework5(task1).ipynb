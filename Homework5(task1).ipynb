{
 "cells": [
  {
   "cell_type": "code",
   "execution_count": 4,
   "id": "918a1acc",
   "metadata": {},
   "outputs": [],
   "source": [
    "%matplotlib inline\n",
    "import numpy as np"
   ]
  },
  {
   "cell_type": "code",
   "execution_count": 6,
   "id": "46e2cf4f",
   "metadata": {},
   "outputs": [
    {
     "name": "stdout",
     "output_type": "stream",
     "text": [
      "Нажмите ENTER, чтобы осуществить ход.\n",
      "Поле чёрное 35\n",
      "Нажмите ENTER, чтобы осуществить ход.\n",
      "Поле красное 16\n",
      "Нажмите ENTER, чтобы осуществить ход.\n",
      "Поле красное 23\n",
      "Нажмите ENTER, чтобы осуществить ход.\n",
      "Поле чёрное 11\n",
      "Нажмите ENTER, чтобы осуществить ход.\n",
      "Поле красное 18\n",
      "Нажмите ENTER, чтобы осуществить ход.\n",
      "Поле красное 27\n",
      "Нажмите ENTER, чтобы осуществить ход.\n",
      "Поле красное 23\n",
      "Нажмите ENTER, чтобы осуществить ход.\n",
      "Поле красное 19\n",
      "Нажмите ENTER, чтобы осуществить ход.\n",
      "Поле чёрное 26\n",
      "Нажмите ENTER, чтобы осуществить ход.\n",
      "Поле чёрное 8\n"
     ]
    }
   ],
   "source": [
    "for i in range(0, 10):\n",
    "    a = input('Нажмите ENTER, чтобы осуществить ход.')\n",
    "    x = round(np.random.uniform(0, 36))\n",
    "    if x == 0:\n",
    "        print(f'Поле \"zero\" {x}')\n",
    "    elif 1 <= x <= 10 or 19 <= x <= 28:\n",
    "        if x % 2 == 0:\n",
    "            print(f'Поле чёрное {x}')\n",
    "        else:\n",
    "             print(f'Поле красное {x}') \n",
    "    else:        \n",
    "        if x % 2 == 0:\n",
    "            print(f'Поле красное {x}')\n",
    "        else:\n",
    "             print(f'Поле чёрное {x}')                  "
   ]
  },
  {
   "cell_type": "code",
   "execution_count": null,
   "id": "8ba99826",
   "metadata": {},
   "outputs": [],
   "source": [
    "\n",
    "\n"
   ]
  }
 ],
 "metadata": {
  "kernelspec": {
   "display_name": "Python 3 (ipykernel)",
   "language": "python",
   "name": "python3"
  },
  "language_info": {
   "codemirror_mode": {
    "name": "ipython",
    "version": 3
   },
   "file_extension": ".py",
   "mimetype": "text/x-python",
   "name": "python",
   "nbconvert_exporter": "python",
   "pygments_lexer": "ipython3",
   "version": "3.9.7"
  }
 },
 "nbformat": 4,
 "nbformat_minor": 5
}
